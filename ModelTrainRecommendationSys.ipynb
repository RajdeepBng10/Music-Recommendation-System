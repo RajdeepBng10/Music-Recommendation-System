{
 "cells": [
  {
   "cell_type": "code",
   "execution_count": 173,
   "id": "f765eb46-9ab1-434d-af3b-644152bd9506",
   "metadata": {},
   "outputs": [],
   "source": [
    "import pandas as pd"
   ]
  },
  {
   "cell_type": "code",
   "execution_count": 175,
   "id": "25de0f67-8d6d-4a31-b44f-5f55b57cdb58",
   "metadata": {},
   "outputs": [],
   "source": [
    "df = pd.read_csv(\"Downloads/spotify_millsongdata.csv\")"
   ]
  },
  {
   "cell_type": "code",
   "execution_count": 176,
   "id": "3519daa9-c456-497d-9cb3-bfbfa506b329",
   "metadata": {},
   "outputs": [
    {
     "data": {
      "text/html": [
       "<div>\n",
       "<style scoped>\n",
       "    .dataframe tbody tr th:only-of-type {\n",
       "        vertical-align: middle;\n",
       "    }\n",
       "\n",
       "    .dataframe tbody tr th {\n",
       "        vertical-align: top;\n",
       "    }\n",
       "\n",
       "    .dataframe thead th {\n",
       "        text-align: right;\n",
       "    }\n",
       "</style>\n",
       "<table border=\"1\" class=\"dataframe\">\n",
       "  <thead>\n",
       "    <tr style=\"text-align: right;\">\n",
       "      <th></th>\n",
       "      <th>artist</th>\n",
       "      <th>song</th>\n",
       "      <th>link</th>\n",
       "      <th>text</th>\n",
       "    </tr>\n",
       "  </thead>\n",
       "  <tbody>\n",
       "    <tr>\n",
       "      <th>35627</th>\n",
       "      <td>Heart</td>\n",
       "      <td>Even It Up</td>\n",
       "      <td>/h/heart/even+it+up_20064707.html</td>\n",
       "      <td>\"I'm the one who can please you\"  \\r\\nAin't th...</td>\n",
       "    </tr>\n",
       "    <tr>\n",
       "      <th>13941</th>\n",
       "      <td>Nick Cave</td>\n",
       "      <td>Bring It On</td>\n",
       "      <td>/n/nick+cave/bring+it+on_20100059.html</td>\n",
       "      <td>This garden that I built for you  \\r\\nThat you...</td>\n",
       "    </tr>\n",
       "    <tr>\n",
       "      <th>41034</th>\n",
       "      <td>Kylie Minogue</td>\n",
       "      <td>No Better</td>\n",
       "      <td>/k/kylie+minogue/no+better_20494655.html</td>\n",
       "      <td>Ah ah Ah ah Ah ah  \\r\\nWonder in you're wilder...</td>\n",
       "    </tr>\n",
       "    <tr>\n",
       "      <th>44110</th>\n",
       "      <td>Misfits</td>\n",
       "      <td>Crimson Ghost</td>\n",
       "      <td>/m/misfits/crimson+ghost_20094044.html</td>\n",
       "      <td>Whoa  \\r\\nI know your every move behind this f...</td>\n",
       "    </tr>\n",
       "    <tr>\n",
       "      <th>19642</th>\n",
       "      <td>Townes Van Zandt</td>\n",
       "      <td>Fare Thee Well, Miss Carousel</td>\n",
       "      <td>/t/townes+van+zandt/fare+thee+well+miss+carous...</td>\n",
       "      <td>The drunken clown's still hanging round  \\r\\nB...</td>\n",
       "    </tr>\n",
       "  </tbody>\n",
       "</table>\n",
       "</div>"
      ],
      "text/plain": [
       "                 artist                           song  \\\n",
       "35627             Heart                     Even It Up   \n",
       "13941         Nick Cave                    Bring It On   \n",
       "41034     Kylie Minogue                      No Better   \n",
       "44110           Misfits                  Crimson Ghost   \n",
       "19642  Townes Van Zandt  Fare Thee Well, Miss Carousel   \n",
       "\n",
       "                                                    link  \\\n",
       "35627                  /h/heart/even+it+up_20064707.html   \n",
       "13941             /n/nick+cave/bring+it+on_20100059.html   \n",
       "41034           /k/kylie+minogue/no+better_20494655.html   \n",
       "44110             /m/misfits/crimson+ghost_20094044.html   \n",
       "19642  /t/townes+van+zandt/fare+thee+well+miss+carous...   \n",
       "\n",
       "                                                    text  \n",
       "35627  \"I'm the one who can please you\"  \\r\\nAin't th...  \n",
       "13941  This garden that I built for you  \\r\\nThat you...  \n",
       "41034  Ah ah Ah ah Ah ah  \\r\\nWonder in you're wilder...  \n",
       "44110  Whoa  \\r\\nI know your every move behind this f...  \n",
       "19642  The drunken clown's still hanging round  \\r\\nB...  "
      ]
     },
     "execution_count": 176,
     "metadata": {},
     "output_type": "execute_result"
    }
   ],
   "source": [
    "df.sample(5)"
   ]
  },
  {
   "cell_type": "code",
   "execution_count": 179,
   "id": "45ef296a-3c28-4ee4-bac0-0d1f1587ada8",
   "metadata": {},
   "outputs": [],
   "source": [
    "df=df.sample(5000).drop('link',axis=1).reset_index(drop=True)"
   ]
  },
  {
   "cell_type": "code",
   "execution_count": 181,
   "id": "2c530c33-df1d-43a0-8f30-38678e207b4e",
   "metadata": {},
   "outputs": [],
   "source": [
    "#df=df.sample(5000)"
   ]
  },
  {
   "cell_type": "markdown",
   "id": "e022231b-687a-483e-83d5-06e7bb3f7a93",
   "metadata": {},
   "source": [
    "Text Preprocessing"
   ]
  },
  {
   "cell_type": "code",
   "execution_count": 184,
   "id": "ba504067-a3b4-47a5-ac9b-70aafdd03fb9",
   "metadata": {},
   "outputs": [],
   "source": [
    "df['text']=df['text'].str.lower().replace(r'^\\w\\s' , ' ').replace(r'\\n',' ' , regex=True)"
   ]
  },
  {
   "cell_type": "code",
   "execution_count": 186,
   "id": "3b1c4060-3c09-4daa-b75c-5c55864f624d",
   "metadata": {},
   "outputs": [
    {
     "name": "stderr",
     "output_type": "stream",
     "text": [
      "[nltk_data] Downloading package punkt to\n",
      "[nltk_data]     C:\\Users\\rajde\\AppData\\Roaming\\nltk_data...\n",
      "[nltk_data]   Package punkt is already up-to-date!\n"
     ]
    },
    {
     "data": {
      "text/plain": [
       "True"
      ]
     },
     "execution_count": 186,
     "metadata": {},
     "output_type": "execute_result"
    }
   ],
   "source": [
    "import nltk\n",
    "from nltk.stem.porter import PorterStemmer\n",
    "nltk.download('punkt')"
   ]
  },
  {
   "cell_type": "code",
   "execution_count": 188,
   "id": "f09827de-1bfb-44d2-a555-0a0a868cddb8",
   "metadata": {},
   "outputs": [],
   "source": [
    "stemmer = PorterStemmer()"
   ]
  },
  {
   "cell_type": "code",
   "execution_count": 190,
   "id": "67cb61ad-5c7a-4c13-8863-6bd7cb14f900",
   "metadata": {},
   "outputs": [],
   "source": [
    "def token(txt):\n",
    "    token = nltk.word_tokenize(txt)\n",
    "    a=[stemmer.stem(w) for w in token]\n",
    "    return \" \".join(a)"
   ]
  },
  {
   "cell_type": "code",
   "execution_count": 192,
   "id": "629f708b-ba76-4f9d-8183-43e88824fb67",
   "metadata": {},
   "outputs": [
    {
     "data": {
      "text/plain": [
       "'you are beauti , beauti'"
      ]
     },
     "execution_count": 192,
     "metadata": {},
     "output_type": "execute_result"
    }
   ],
   "source": [
    "token(\"you are beautiful, beauty\")"
   ]
  },
  {
   "cell_type": "code",
   "execution_count": 194,
   "id": "b7060812-a6a4-4244-a31e-757517161ef5",
   "metadata": {},
   "outputs": [
    {
     "data": {
      "text/plain": [
       "0       ( instrument ) i 'm not look to chang your min...\n",
       "1       mayb today mayb today you 'll find your love ....\n",
       "2       i 'm stand on a hilltop a hundr mile from home...\n",
       "3       hear - talk - ye i - love you set your heart s...\n",
       "4       come ye broken heart come ye weari soul there ...\n",
       "                              ...                        \n",
       "4995    i set out on monday the night wa cold and vast...\n",
       "4996    stare down from thi high window at the face in...\n",
       "4997    lead me to the river of love pour a littl wate...\n",
       "4998    in love and lone just to see you cri in love a...\n",
       "4999    there is person live in my head she come to vi...\n",
       "Name: text, Length: 5000, dtype: object"
      ]
     },
     "execution_count": 194,
     "metadata": {},
     "output_type": "execute_result"
    }
   ],
   "source": [
    "df['text'].apply(lambda x:token(x))"
   ]
  },
  {
   "cell_type": "code",
   "execution_count": 196,
   "id": "457f79af-0ce0-4107-871d-68c72bfe6e16",
   "metadata": {},
   "outputs": [],
   "source": [
    "from sklearn.feature_extraction.text import TfidfVectorizer\n",
    "from sklearn.metrics.pairwise import cosine_similarity"
   ]
  },
  {
   "cell_type": "code",
   "execution_count": 198,
   "id": "f94bbd8d-8a39-4040-a8d6-fcdb326604e3",
   "metadata": {},
   "outputs": [],
   "source": [
    "tfid = TfidfVectorizer(analyzer='word' , stop_words='english')"
   ]
  },
  {
   "cell_type": "code",
   "execution_count": 200,
   "id": "67a61a04-ad81-415e-b99d-4bfec6475d73",
   "metadata": {},
   "outputs": [],
   "source": [
    "matrix = tfid.fit_transform(df['text'])"
   ]
  },
  {
   "cell_type": "code",
   "execution_count": 201,
   "id": "7b656ba2-f281-4c88-812d-748ab4ae4e9d",
   "metadata": {},
   "outputs": [],
   "source": [
    "similar = cosine_similarity(matrix)"
   ]
  },
  {
   "cell_type": "code",
   "execution_count": 204,
   "id": "6d498204-f5f1-46e2-bcdb-ebbe2e170aee",
   "metadata": {},
   "outputs": [
    {
     "data": {
      "text/plain": [
       "array([1.        , 0.08891484, 0.00863254, ..., 0.00585703, 0.03276752,\n",
       "       0.01417562])"
      ]
     },
     "execution_count": 204,
     "metadata": {},
     "output_type": "execute_result"
    }
   ],
   "source": [
    "similar[0]"
   ]
  },
  {
   "cell_type": "markdown",
   "id": "1ff85ba5-c050-4f07-ba8b-bb953f97f7e0",
   "metadata": {},
   "source": [
    "Recommender Function"
   ]
  },
  {
   "cell_type": "code",
   "execution_count": 217,
   "id": "fd590219-985d-45cb-991c-222f904a93e4",
   "metadata": {},
   "outputs": [],
   "source": [
    "def recommender(song_name):\n",
    "    idx=df[df['song']==song_name].index[0]\n",
    "    distance = sorted(list(enumerate(similar[idx])), reverse=True, key=lambda x:x[1])\n",
    "    song = []\n",
    "    for s_id in distance[1:5]:\n",
    "        song.append(df.iloc[s_id[0]].song)\n",
    "    return song"
   ]
  },
  {
   "cell_type": "code",
   "execution_count": 221,
   "id": "66035ffb-19ae-44bf-9429-2b639af2b7ea",
   "metadata": {},
   "outputs": [
    {
     "data": {
      "text/plain": [
       "['Hammer To Fall',\n",
       " 'An Angel Came To Me',\n",
       " 'Bling Blang',\n",
       " \"Let's Get It Started\"]"
      ]
     },
     "execution_count": 221,
     "metadata": {},
     "output_type": "execute_result"
    }
   ],
   "source": [
    "recommender(\"The Hammer Song\")"
   ]
  },
  {
   "cell_type": "code",
   "execution_count": 223,
   "id": "0b158a5a-4967-4b01-afcb-26cb8f9ebdb2",
   "metadata": {},
   "outputs": [],
   "source": [
    "import pickle"
   ]
  },
  {
   "cell_type": "code",
   "execution_count": 225,
   "id": "41b614db-1818-412b-af2a-b977ff8da039",
   "metadata": {},
   "outputs": [],
   "source": [
    "pickle.dump(similar, open(\"similarity\",\"wb\"))"
   ]
  },
  {
   "cell_type": "code",
   "execution_count": 227,
   "id": "74b88a2b-8113-477a-9b32-31024a8f36f3",
   "metadata": {},
   "outputs": [],
   "source": [
    "pickle.dump(df, open(\"df\",\"wb\"))"
   ]
  },
  {
   "cell_type": "code",
   "execution_count": null,
   "id": "bf593112-d86e-4dc1-853d-c4aef481fbe0",
   "metadata": {},
   "outputs": [],
   "source": []
  }
 ],
 "metadata": {
  "kernelspec": {
   "display_name": "Python 3 (ipykernel)",
   "language": "python",
   "name": "python3"
  },
  "language_info": {
   "codemirror_mode": {
    "name": "ipython",
    "version": 3
   },
   "file_extension": ".py",
   "mimetype": "text/x-python",
   "name": "python",
   "nbconvert_exporter": "python",
   "pygments_lexer": "ipython3",
   "version": "3.12.4"
  }
 },
 "nbformat": 4,
 "nbformat_minor": 5
}
